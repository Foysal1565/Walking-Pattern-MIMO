{
 "cells": [
  {
   "cell_type": "code",
   "execution_count": 1,
   "id": "informed-marketplace",
   "metadata": {},
   "outputs": [
    {
     "name": "stdout",
     "output_type": "stream",
     "text": [
      "Foysal\n"
     ]
    }
   ],
   "source": [
    "print (\"Foysal\")"
   ]
  },
  {
   "cell_type": "code",
   "execution_count": 11,
   "id": "linear-billy",
   "metadata": {},
   "outputs": [
    {
     "name": "stdout",
     "output_type": "stream",
     "text": [
      "foysal\n"
     ]
    }
   ],
   "source": [
    "name1 =\"foysal\"\n",
    "print(name1) #print variable\n"
   ]
  },
  {
   "cell_type": "code",
   "execution_count": 12,
   "id": "altered-blond",
   "metadata": {},
   "outputs": [
    {
     "data": {
      "text/plain": [
       "1"
      ]
     },
     "execution_count": 12,
     "metadata": {},
     "output_type": "execute_result"
    }
   ],
   "source": [
    "5%2  #remainder"
   ]
  },
  {
   "cell_type": "code",
   "execution_count": 13,
   "id": "after-shadow",
   "metadata": {},
   "outputs": [
    {
     "data": {
      "text/plain": [
       "8"
      ]
     },
     "execution_count": 13,
     "metadata": {},
     "output_type": "execute_result"
    }
   ],
   "source": [
    "2**3  #exponent"
   ]
  },
  {
   "cell_type": "code",
   "execution_count": 34,
   "id": "intellectual-tracker",
   "metadata": {},
   "outputs": [
    {
     "name": "stdout",
     "output_type": "stream",
     "text": [
      "Give your first number to multiply\n"
     ]
    },
    {
     "name": "stdin",
     "output_type": "stream",
     "text": [
      " 5\n"
     ]
    },
    {
     "name": "stdout",
     "output_type": "stream",
     "text": [
      "Provide the second number now\n"
     ]
    },
    {
     "name": "stdin",
     "output_type": "stream",
     "text": [
      " 6\n"
     ]
    },
    {
     "name": "stdout",
     "output_type": "stream",
     "text": [
      "the multiplication is: 30.0\n"
     ]
    }
   ],
   "source": [
    "#number type and operators\n",
    "\n",
    "print('Give your first number to multiply')\n",
    "num1=input()\n",
    "print('Provide the second number now')\n",
    "num2=input()\n",
    "SUM =float(num1) * float (num2)\n",
    "print('the multiplication is:', SUM)"
   ]
  },
  {
   "cell_type": "code",
   "execution_count": null,
   "id": "static-exercise",
   "metadata": {},
   "outputs": [],
   "source": []
  },
  {
   "cell_type": "code",
   "execution_count": null,
   "id": "collaborative-ceremony",
   "metadata": {},
   "outputs": [],
   "source": []
  }
 ],
 "metadata": {
  "kernelspec": {
   "display_name": "Python 3",
   "language": "python",
   "name": "python3"
  },
  "language_info": {
   "codemirror_mode": {
    "name": "ipython",
    "version": 3
   },
   "file_extension": ".py",
   "mimetype": "text/x-python",
   "name": "python",
   "nbconvert_exporter": "python",
   "pygments_lexer": "ipython3",
   "version": "3.7.10"
  }
 },
 "nbformat": 4,
 "nbformat_minor": 5
}
